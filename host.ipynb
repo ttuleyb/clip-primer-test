{
 "cells": [
  {
   "cell_type": "markdown",
   "id": "d8728dbd-b542-4a4b-b3db-6cc8c9a18a36",
   "metadata": {},
   "source": [
    "# Run clip-retrieval back with fondant-ai/datacomp-small-clip index"
   ]
  },
  {
   "cell_type": "markdown",
   "id": "5708ba35-9ed3-4492-96aa-cd07f31cb8c0",
   "metadata": {},
   "source": [
    "### Create virtual environment"
   ]
  },
  {
   "cell_type": "code",
   "execution_count": 1,
   "id": "0f5908fa-fe50-432a-8475-e926d4e566be",
   "metadata": {},
   "outputs": [],
   "source": [
    "!python3 -m venv .env\n",
    "!source .env/bin/activate"
   ]
  },
  {
   "cell_type": "markdown",
   "id": "1812814f-6193-4d19-abd8-8a64c4c714d0",
   "metadata": {},
   "source": [
    "## Download index and metadata"
   ]
  },
  {
   "cell_type": "markdown",
   "id": "b0893795-2670-4ea4-9035-83eb2709ebfc",
   "metadata": {},
   "source": [
    "### Install requirements"
   ]
  },
  {
   "cell_type": "code",
   "execution_count": 2,
   "id": "1cdfd076-f2a4-4809-aaf6-44868662e6ec",
   "metadata": {},
   "outputs": [
    {
     "name": "stdout",
     "output_type": "stream",
     "text": [
      "zsh:1: no matches found: dask[dataframe]\n"
     ]
    }
   ],
   "source": [
    "!pip install dask[dataframe] huggingface_hub"
   ]
  },
  {
   "cell_type": "markdown",
   "id": "41bd6c70-fbec-4e83-93bd-d2887ab48e99",
   "metadata": {},
   "source": [
    "### Create the index folder"
   ]
  },
  {
   "cell_type": "code",
   "execution_count": 3,
   "id": "fec09d8d-3aa7-43ea-b356-db93ecd5384c",
   "metadata": {},
   "outputs": [],
   "source": [
    "!mkdir datacomp_small"
   ]
  },
  {
   "cell_type": "markdown",
   "id": "64117004-eb0e-4b07-a0f0-a7fffb9552d8",
   "metadata": {},
   "source": [
    "### Download the index"
   ]
  },
  {
   "cell_type": "code",
   "execution_count": 5,
   "id": "b4806e99-805f-4d25-b69d-0799fee7bf76",
   "metadata": {},
   "outputs": [
    {
     "name": "stdout",
     "output_type": "stream",
     "text": [
      "datacomp_small/imag 100%[===================>]   2.33G  17.0MB/s    in 2m 4s   \n"
     ]
    }
   ],
   "source": [
    "!wget -O datacomp_small/image.index \"https://huggingface.co/datasets/fondant-ai/datacomp-small-clip/resolve/main/faiss?download=true\" -q --show-progress"
   ]
  },
  {
   "cell_type": "markdown",
   "id": "429ea232-95da-4c48-898f-3170a1bc74e4",
   "metadata": {},
   "source": [
    "### Download the metadata"
   ]
  },
  {
   "cell_type": "code",
   "execution_count": 6,
   "id": "61d44529-5609-4612-852c-d18cf4560075",
   "metadata": {},
   "outputs": [
    {
     "name": "stdout",
     "output_type": "stream",
     "text": [
      "[########################################] | 100% Completed | 39.77 s\n"
     ]
    }
   ],
   "source": [
    "import dask.dataframe as dd\n",
    "from dask.diagnostics import ProgressBar\n",
    "\n",
    "ddf = dd.read_parquet(\"hf://datasets/fondant-ai/datacomp-small-clip/id_mapping\")\n",
    "ddf = ddf.rename(columns={\"image_path\": \"url\"})\n",
    "ddf = ddf.repartition(npartitions=1)\n",
    "\n",
    "with ProgressBar():\n",
    "    ddf.to_parquet(\"datacomp_small/metadata\")"
   ]
  },
  {
   "cell_type": "markdown",
   "id": "872de5af-5c66-4249-a5db-aa028f5bca58",
   "metadata": {},
   "source": [
    "## Run clip-retrieval backend"
   ]
  },
  {
   "cell_type": "markdown",
   "id": "302b6927-45b8-4977-926e-8d3f709d6e60",
   "metadata": {},
   "source": [
    "### Install requirements"
   ]
  },
  {
   "cell_type": "code",
   "execution_count": 7,
   "id": "b4d1729f-4812-4a7d-9945-16615ecbd51f",
   "metadata": {},
   "outputs": [
    {
     "name": "stdout",
     "output_type": "stream",
     "text": [
      "\u001b[33mDEPRECATION: Configuring installation scheme with distutils config files is deprecated and will no longer work in the near future. If you are using a Homebrew or Linuxbrew Python, please see discussion at https://github.com/Homebrew/homebrew-core/issues/76621\u001b[0m\u001b[33m\n",
      "\u001b[0mCollecting clip-retrieval\n",
      "  Using cached clip_retrieval-2.44.0-py3-none-any.whl (343 kB)\n",
      "Collecting wandb<0.17,>=0.12.0\n",
      "  Using cached wandb-0.16.5-py3-none-any.whl (2.2 MB)\n",
      "Collecting flask<4,>=3.0.0\n",
      "  Using cached flask-3.0.2-py3-none-any.whl (101 kB)\n",
      "Requirement already satisfied: h5py<4,>=3.1.0 in /opt/homebrew/lib/python3.9/site-packages (from clip-retrieval) (3.9.0)\n",
      "Collecting autofaiss<3,>=2.9.6\n",
      "  Using cached autofaiss-2.17.0-py3-none-any.whl (70 kB)\n",
      "Collecting multilingual-clip<2,>=1.0.10\n",
      "  Using cached multilingual_clip-1.0.10-py3-none-any.whl (20 kB)\n",
      "Requirement already satisfied: tqdm<5,>=4.62.3 in /opt/homebrew/lib/python3.9/site-packages (from clip-retrieval) (4.65.0)\n",
      "Requirement already satisfied: sentence-transformers<3,>=2.2.0 in /opt/homebrew/lib/python3.9/site-packages (from clip-retrieval) (2.2.2)\n",
      "Collecting flask-cors<5,>=4.0.0\n",
      "  Using cached Flask_Cors-4.0.0-py2.py3-none-any.whl (14 kB)\n",
      "Collecting img2dataset<2,>=1.25.5\n",
      "  Using cached img2dataset-1.45.0-py3-none-any.whl (42 kB)\n",
      "Collecting urllib3<2\n",
      "  Using cached urllib3-1.26.18-py2.py3-none-any.whl (143 kB)\n",
      "Collecting prometheus-client<1,>=0.13.1\n",
      "  Downloading prometheus_client-0.20.0-py3-none-any.whl (54 kB)\n",
      "\u001b[2K     \u001b[90m━━━━━━━━━━━━━━━━━━━━━━━━━━━━━━━━━━━━━━━━\u001b[0m \u001b[32m54.5/54.5 kB\u001b[0m \u001b[31m1.6 MB/s\u001b[0m eta \u001b[36m0:00:00\u001b[0m\n",
      "\u001b[?25hCollecting all-clip<2\n",
      "  Using cached all_clip-1.2.0-py3-none-any.whl (10 kB)\n",
      "Collecting flask-restful<1,>=0.3.9\n",
      "  Using cached Flask_RESTful-0.3.10-py2.py3-none-any.whl (26 kB)\n",
      "Requirement already satisfied: open-clip-torch<3.0.0,>=2.0.0 in /opt/homebrew/lib/python3.9/site-packages (from clip-retrieval) (2.20.0)\n",
      "Collecting faiss-cpu<2,>=1.7.2\n",
      "  Downloading faiss_cpu-1.8.0-cp39-cp39-macosx_11_0_arm64.whl (3.1 MB)\n",
      "\u001b[2K     \u001b[90m━━━━━━━━━━━━━━━━━━━━━━━━━━━━━━━━━━━━━━━━\u001b[0m \u001b[32m3.1/3.1 MB\u001b[0m \u001b[31m11.1 MB/s\u001b[0m eta \u001b[36m0:00:00\u001b[0m00:01\u001b[0m00:01\u001b[0m\n",
      "\u001b[?25hRequirement already satisfied: aiohttp<4,>=3.8.1 in /opt/homebrew/lib/python3.9/site-packages (from clip-retrieval) (3.8.5)\n",
      "Requirement already satisfied: torch<3,>=1.7.1 in /opt/homebrew/lib/python3.9/site-packages (from clip-retrieval) (2.0.1)\n",
      "Requirement already satisfied: transformers in /opt/homebrew/lib/python3.9/site-packages (from clip-retrieval) (4.31.0)\n",
      "Collecting clip-anytorch<3,>=2.5.0\n",
      "  Using cached clip_anytorch-2.6.0-py3-none-any.whl (1.4 MB)\n",
      "Requirement already satisfied: fire<0.6.0,>=0.4.0 in /opt/homebrew/lib/python3.9/site-packages (from clip-retrieval) (0.5.0)\n",
      "Requirement already satisfied: numpy<2,>=1.19.5 in /opt/homebrew/lib/python3.9/site-packages (from clip-retrieval) (1.25.1)\n",
      "Requirement already satisfied: pandas<3,>=1.1.5 in /opt/homebrew/lib/python3.9/site-packages (from clip-retrieval) (2.0.3)\n",
      "Requirement already satisfied: scipy<1.12 in /opt/homebrew/lib/python3.9/site-packages (from clip-retrieval) (1.8.1)\n",
      "Requirement already satisfied: requests<3,>=2.27.1 in /opt/homebrew/lib/python3.9/site-packages (from clip-retrieval) (2.31.0)\n",
      "Requirement already satisfied: torchvision<2,>=0.10.1 in /opt/homebrew/lib/python3.9/site-packages (from clip-retrieval) (0.15.2)\n",
      "Collecting webdataset<0.3,>=0.2\n",
      "  Using cached webdataset-0.2.86-py3-none-any.whl (70 kB)\n",
      "Requirement already satisfied: fsspec in /opt/homebrew/lib/python3.9/site-packages (from clip-retrieval) (2023.6.0)\n",
      "Collecting pyarrow<15,>=6.0.1\n",
      "  Downloading pyarrow-14.0.2-cp39-cp39-macosx_11_0_arm64.whl (24.0 MB)\n",
      "\u001b[2K     \u001b[90m━━━━━━━━━━━━━━━━━━━━━━━━━━━━━━━━━━━━━━━━\u001b[0m \u001b[32m24.0/24.0 MB\u001b[0m \u001b[31m17.7 MB/s\u001b[0m eta \u001b[36m0:00:00\u001b[0m00:01\u001b[0m00:01\u001b[0m\n",
      "\u001b[?25hRequirement already satisfied: frozenlist>=1.1.1 in /opt/homebrew/lib/python3.9/site-packages (from aiohttp<4,>=3.8.1->clip-retrieval) (1.4.0)\n",
      "Requirement already satisfied: aiosignal>=1.1.2 in /opt/homebrew/lib/python3.9/site-packages (from aiohttp<4,>=3.8.1->clip-retrieval) (1.3.1)\n",
      "Requirement already satisfied: charset-normalizer<4.0,>=2.0 in /opt/homebrew/lib/python3.9/site-packages (from aiohttp<4,>=3.8.1->clip-retrieval) (3.2.0)\n",
      "Requirement already satisfied: multidict<7.0,>=4.5 in /opt/homebrew/lib/python3.9/site-packages (from aiohttp<4,>=3.8.1->clip-retrieval) (6.0.4)\n",
      "Requirement already satisfied: async-timeout<5.0,>=4.0.0a3 in /opt/homebrew/lib/python3.9/site-packages (from aiohttp<4,>=3.8.1->clip-retrieval) (4.0.2)\n",
      "Requirement already satisfied: yarl<2.0,>=1.0 in /opt/homebrew/lib/python3.9/site-packages (from aiohttp<4,>=3.8.1->clip-retrieval) (1.9.2)\n",
      "Requirement already satisfied: attrs>=17.3.0 in /opt/homebrew/lib/python3.9/site-packages (from aiohttp<4,>=3.8.1->clip-retrieval) (23.1.0)\n",
      "Collecting embedding-reader<2,>=1.5.1\n",
      "  Using cached embedding_reader-1.7.0-py3-none-any.whl (18 kB)\n",
      "Requirement already satisfied: ftfy in /opt/homebrew/lib/python3.9/site-packages (from clip-anytorch<3,>=2.5.0->clip-retrieval) (6.1.1)\n",
      "Requirement already satisfied: regex in /opt/homebrew/lib/python3.9/site-packages (from clip-anytorch<3,>=2.5.0->clip-retrieval) (2023.6.3)\n",
      "Requirement already satisfied: six in /opt/homebrew/lib/python3.9/site-packages (from fire<0.6.0,>=0.4.0->clip-retrieval) (1.16.0)\n",
      "Requirement already satisfied: termcolor in /opt/homebrew/lib/python3.9/site-packages (from fire<0.6.0,>=0.4.0->clip-retrieval) (2.3.0)\n",
      "Requirement already satisfied: importlib-metadata>=3.6.0 in /opt/homebrew/lib/python3.9/site-packages (from flask<4,>=3.0.0->clip-retrieval) (6.8.0)\n",
      "Collecting blinker>=1.6.2\n",
      "  Using cached blinker-1.7.0-py3-none-any.whl (13 kB)\n",
      "Collecting Werkzeug>=3.0.0\n",
      "  Using cached werkzeug-3.0.1-py3-none-any.whl (226 kB)\n",
      "Requirement already satisfied: click>=8.1.3 in /opt/homebrew/lib/python3.9/site-packages (from flask<4,>=3.0.0->clip-retrieval) (8.1.6)\n",
      "Requirement already satisfied: itsdangerous>=2.1.2 in /opt/homebrew/lib/python3.9/site-packages (from flask<4,>=3.0.0->clip-retrieval) (2.1.2)\n",
      "Requirement already satisfied: Jinja2>=3.1.2 in /opt/homebrew/lib/python3.9/site-packages (from flask<4,>=3.0.0->clip-retrieval) (3.1.2)\n",
      "Collecting aniso8601>=0.82\n",
      "  Using cached aniso8601-9.0.1-py2.py3-none-any.whl (52 kB)\n",
      "Requirement already satisfied: pytz in /opt/homebrew/lib/python3.9/site-packages (from flask-restful<1,>=0.3.9->clip-retrieval) (2023.3)\n",
      "Collecting dataclasses<1.0.0,>=0.6\n",
      "  Using cached dataclasses-0.6-py3-none-any.whl (14 kB)\n",
      "Collecting exifread-nocycle<4,>=3.0.1\n",
      "  Using cached ExifRead_nocycle-3.0.1-py3-none-any.whl (39 kB)\n",
      "Requirement already satisfied: opencv-python-headless<5,>=4.5.5.62 in /opt/homebrew/lib/python3.9/site-packages (from img2dataset<2,>=1.25.5->clip-retrieval) (4.7.0.72)\n",
      "Collecting albumentations<2,>=1.1.0\n",
      "  Using cached albumentations-1.4.2-py3-none-any.whl (133 kB)\n",
      "Requirement already satisfied: timm in /opt/homebrew/lib/python3.9/site-packages (from open-clip-torch<3.0.0,>=2.0.0->clip-retrieval) (0.6.13)\n",
      "Requirement already satisfied: huggingface-hub in /opt/homebrew/lib/python3.9/site-packages (from open-clip-torch<3.0.0,>=2.0.0->clip-retrieval) (0.16.4)\n",
      "Collecting protobuf<4\n",
      "  Downloading protobuf-3.20.3-py2.py3-none-any.whl (162 kB)\n",
      "\u001b[2K     \u001b[90m━━━━━━━━━━━━━━━━━━━━━━━━━━━━━━━━━━━━━━\u001b[0m \u001b[32m162.1/162.1 kB\u001b[0m \u001b[31m10.1 MB/s\u001b[0m eta \u001b[36m0:00:00\u001b[0m\n",
      "\u001b[?25hRequirement already satisfied: sentencepiece in /opt/homebrew/lib/python3.9/site-packages (from open-clip-torch<3.0.0,>=2.0.0->clip-retrieval) (0.1.97)\n",
      "Requirement already satisfied: python-dateutil>=2.8.2 in /opt/homebrew/lib/python3.9/site-packages (from pandas<3,>=1.1.5->clip-retrieval) (2.8.2)\n",
      "Requirement already satisfied: tzdata>=2022.1 in /opt/homebrew/lib/python3.9/site-packages (from pandas<3,>=1.1.5->clip-retrieval) (2023.3)\n",
      "Requirement already satisfied: idna<4,>=2.5 in /opt/homebrew/lib/python3.9/site-packages (from requests<3,>=2.27.1->clip-retrieval) (3.4)\n",
      "Requirement already satisfied: certifi>=2017.4.17 in /opt/homebrew/lib/python3.9/site-packages (from requests<3,>=2.27.1->clip-retrieval) (2023.7.22)\n",
      "Collecting numpy<2,>=1.19.5\n",
      "  Downloading numpy-1.24.4-cp39-cp39-macosx_11_0_arm64.whl (13.9 MB)\n",
      "\u001b[2K     \u001b[90m━━━━━━━━━━━━━━━━━━━━━━━━━━━━━━━━━━━━━━━━\u001b[0m \u001b[32m13.9/13.9 MB\u001b[0m \u001b[31m21.6 MB/s\u001b[0m eta \u001b[36m0:00:00\u001b[0m00:01\u001b[0m00:01\u001b[0m\n",
      "\u001b[?25hRequirement already satisfied: scikit-learn in /opt/homebrew/lib/python3.9/site-packages (from sentence-transformers<3,>=2.2.0->clip-retrieval) (1.1.1)\n",
      "Requirement already satisfied: nltk in /opt/homebrew/lib/python3.9/site-packages (from sentence-transformers<3,>=2.2.0->clip-retrieval) (3.8.1)\n",
      "Requirement already satisfied: typing-extensions in /opt/homebrew/lib/python3.9/site-packages (from torch<3,>=1.7.1->clip-retrieval) (4.7.1)\n",
      "Requirement already satisfied: sympy in /opt/homebrew/lib/python3.9/site-packages (from torch<3,>=1.7.1->clip-retrieval) (1.12)\n",
      "Requirement already satisfied: networkx in /opt/homebrew/lib/python3.9/site-packages (from torch<3,>=1.7.1->clip-retrieval) (3.1)\n",
      "Requirement already satisfied: filelock in /opt/homebrew/lib/python3.9/site-packages (from torch<3,>=1.7.1->clip-retrieval) (3.12.2)\n",
      "Requirement already satisfied: pillow!=8.3.*,>=5.3.0 in /opt/homebrew/lib/python3.9/site-packages (from torchvision<2,>=0.10.1->clip-retrieval) (10.0.0)\n",
      "Requirement already satisfied: safetensors>=0.3.1 in /opt/homebrew/lib/python3.9/site-packages (from transformers->clip-retrieval) (0.3.3)\n",
      "Requirement already satisfied: pyyaml>=5.1 in /opt/homebrew/lib/python3.9/site-packages (from transformers->clip-retrieval) (6.0.1)\n",
      "Requirement already satisfied: tokenizers!=0.11.3,<0.14,>=0.11.1 in /opt/homebrew/lib/python3.9/site-packages (from transformers->clip-retrieval) (0.13.3)\n",
      "Requirement already satisfied: packaging>=20.0 in /opt/homebrew/lib/python3.9/site-packages (from transformers->clip-retrieval) (23.1)\n",
      "Requirement already satisfied: GitPython!=3.1.29,>=1.0.0 in /opt/homebrew/lib/python3.9/site-packages (from wandb<0.17,>=0.12.0->clip-retrieval) (3.1.32)\n",
      "Collecting docker-pycreds>=0.4.0\n",
      "  Downloading docker_pycreds-0.4.0-py2.py3-none-any.whl (9.0 kB)\n",
      "Requirement already satisfied: setuptools in /opt/homebrew/lib/python3.9/site-packages (from wandb<0.17,>=0.12.0->clip-retrieval) (65.6.3)\n",
      "Requirement already satisfied: psutil>=5.0.0 in /opt/homebrew/lib/python3.9/site-packages (from wandb<0.17,>=0.12.0->clip-retrieval) (5.9.5)\n",
      "Collecting setproctitle\n",
      "  Downloading setproctitle-1.3.3-cp39-cp39-macosx_10_9_universal2.whl (16 kB)\n",
      "Requirement already satisfied: appdirs>=1.4.3 in /opt/homebrew/lib/python3.9/site-packages (from wandb<0.17,>=0.12.0->clip-retrieval) (1.4.4)\n",
      "Collecting sentry-sdk>=1.0.0\n",
      "  Downloading sentry_sdk-1.44.0-py2.py3-none-any.whl (264 kB)\n",
      "\u001b[2K     \u001b[90m━━━━━━━━━━━━━━━━━━━━━━━━━━━━━━━━━━━━━━\u001b[0m \u001b[32m264.9/264.9 kB\u001b[0m \u001b[31m12.3 MB/s\u001b[0m eta \u001b[36m0:00:00\u001b[0m\n",
      "\u001b[?25hCollecting braceexpand\n",
      "  Using cached braceexpand-0.1.7-py2.py3-none-any.whl (5.9 kB)\n",
      "Collecting typing-extensions\n",
      "  Using cached typing_extensions-4.10.0-py3-none-any.whl (33 kB)\n",
      "Collecting scikit-learn\n",
      "  Downloading scikit_learn-1.4.1.post1-cp39-cp39-macosx_12_0_arm64.whl (10.5 MB)\n",
      "\u001b[2K     \u001b[90m━━━━━━━━━━━━━━━━━━━━━━━━━━━━━━━━━━━━━━━━\u001b[0m \u001b[32m10.5/10.5 MB\u001b[0m \u001b[31m22.6 MB/s\u001b[0m eta \u001b[36m0:00:00\u001b[0m00:01\u001b[0m0:01\u001b[0m\n",
      "\u001b[?25hCollecting scipy<1.12\n",
      "  Downloading scipy-1.11.4-cp39-cp39-macosx_12_0_arm64.whl (29.7 MB)\n",
      "\u001b[2K     \u001b[90m━━━━━━━━━━━━━━━━━━━━━━━━━━━━━━━━━━━━━━━━\u001b[0m \u001b[32m29.7/29.7 MB\u001b[0m \u001b[31m16.1 MB/s\u001b[0m eta \u001b[36m0:00:00\u001b[0m00:01\u001b[0m00:01\u001b[0m\n",
      "\u001b[?25hCollecting opencv-python-headless<5,>=4.5.5.62\n",
      "  Using cached opencv_python_headless-4.9.0.80-cp37-abi3-macosx_11_0_arm64.whl (35.4 MB)\n",
      "Requirement already satisfied: scikit-image>=0.21.0 in /opt/homebrew/lib/python3.9/site-packages (from albumentations<2,>=1.1.0->img2dataset<2,>=1.25.5->clip-retrieval) (0.21.0)\n",
      "Requirement already satisfied: gitdb<5,>=4.0.1 in /opt/homebrew/lib/python3.9/site-packages (from GitPython!=3.1.29,>=1.0.0->wandb<0.17,>=0.12.0->clip-retrieval) (4.0.10)\n",
      "Requirement already satisfied: zipp>=0.5 in /opt/homebrew/lib/python3.9/site-packages (from importlib-metadata>=3.6.0->flask<4,>=3.0.0->clip-retrieval) (3.16.2)\n",
      "Requirement already satisfied: MarkupSafe>=2.0 in /opt/homebrew/lib/python3.9/site-packages (from Jinja2>=3.1.2->flask<4,>=3.0.0->clip-retrieval) (2.1.3)\n",
      "Requirement already satisfied: threadpoolctl>=2.0.0 in /opt/homebrew/lib/python3.9/site-packages (from scikit-learn->sentence-transformers<3,>=2.2.0->clip-retrieval) (3.1.0)\n",
      "Collecting joblib>=1.2.0\n",
      "  Downloading joblib-1.3.2-py3-none-any.whl (302 kB)\n",
      "\u001b[2K     \u001b[90m━━━━━━━━━━━━━━━━━━━━━━━━━━━━━━━━━━━━━━\u001b[0m \u001b[32m302.2/302.2 kB\u001b[0m \u001b[31m15.5 MB/s\u001b[0m eta \u001b[36m0:00:00\u001b[0m\n",
      "\u001b[?25hRequirement already satisfied: wcwidth>=0.2.5 in /opt/homebrew/lib/python3.9/site-packages (from ftfy->clip-anytorch<3,>=2.5.0->clip-retrieval) (0.2.6)\n",
      "Requirement already satisfied: mpmath>=0.19 in /opt/homebrew/lib/python3.9/site-packages (from sympy->torch<3,>=1.7.1->clip-retrieval) (1.3.0)\n",
      "Requirement already satisfied: smmap<6,>=3.0.1 in /opt/homebrew/lib/python3.9/site-packages (from gitdb<5,>=4.0.1->GitPython!=3.1.29,>=1.0.0->wandb<0.17,>=0.12.0->clip-retrieval) (5.0.0)\n",
      "Requirement already satisfied: lazy_loader>=0.2 in /opt/homebrew/lib/python3.9/site-packages (from scikit-image>=0.21.0->albumentations<2,>=1.1.0->img2dataset<2,>=1.25.5->clip-retrieval) (0.3)\n",
      "Requirement already satisfied: imageio>=2.27 in /opt/homebrew/lib/python3.9/site-packages (from scikit-image>=0.21.0->albumentations<2,>=1.1.0->img2dataset<2,>=1.25.5->clip-retrieval) (2.31.2)\n",
      "Requirement already satisfied: PyWavelets>=1.1.1 in /opt/homebrew/lib/python3.9/site-packages (from scikit-image>=0.21.0->albumentations<2,>=1.1.0->img2dataset<2,>=1.25.5->clip-retrieval) (1.4.1)\n",
      "Requirement already satisfied: tifffile>=2022.8.12 in /opt/homebrew/lib/python3.9/site-packages (from scikit-image>=0.21.0->albumentations<2,>=1.1.0->img2dataset<2,>=1.25.5->clip-retrieval) (2023.8.25)\n",
      "Installing collected packages: exifread-nocycle, dataclasses, braceexpand, aniso8601, Werkzeug, urllib3, typing-extensions, setproctitle, protobuf, prometheus-client, numpy, joblib, docker-pycreds, blinker, webdataset, sentry-sdk, scipy, pyarrow, opencv-python-headless, flask, faiss-cpu, wandb, scikit-learn, flask-restful, flask-cors, embedding-reader, clip-anytorch, autofaiss, albumentations, multilingual-clip, img2dataset, all-clip, clip-retrieval\n",
      "\u001b[33m  DEPRECATION: Configuring installation scheme with distutils config files is deprecated and will no longer work in the near future. If you are using a Homebrew or Linuxbrew Python, please see discussion at https://github.com/Homebrew/homebrew-core/issues/76621\u001b[0m\u001b[33m\n",
      "\u001b[0m\u001b[33m  DEPRECATION: Configuring installation scheme with distutils config files is deprecated and will no longer work in the near future. If you are using a Homebrew or Linuxbrew Python, please see discussion at https://github.com/Homebrew/homebrew-core/issues/76621\u001b[0m\u001b[33m\n",
      "\u001b[0m\u001b[33m  DEPRECATION: Configuring installation scheme with distutils config files is deprecated and will no longer work in the near future. If you are using a Homebrew or Linuxbrew Python, please see discussion at https://github.com/Homebrew/homebrew-core/issues/76621\u001b[0m\u001b[33m\n",
      "\u001b[0m\u001b[33m  DEPRECATION: Configuring installation scheme with distutils config files is deprecated and will no longer work in the near future. If you are using a Homebrew or Linuxbrew Python, please see discussion at https://github.com/Homebrew/homebrew-core/issues/76621\u001b[0m\u001b[33m\n",
      "\u001b[0m  Attempting uninstall: Werkzeug\n",
      "    Found existing installation: Werkzeug 2.3.6\n",
      "    Uninstalling Werkzeug-2.3.6:\n",
      "      Successfully uninstalled Werkzeug-2.3.6\n",
      "\u001b[33m  DEPRECATION: Configuring installation scheme with distutils config files is deprecated and will no longer work in the near future. If you are using a Homebrew or Linuxbrew Python, please see discussion at https://github.com/Homebrew/homebrew-core/issues/76621\u001b[0m\u001b[33m\n",
      "\u001b[0m  Attempting uninstall: urllib3\n",
      "    Found existing installation: urllib3 2.0.4\n",
      "    Uninstalling urllib3-2.0.4:\n",
      "      Successfully uninstalled urllib3-2.0.4\n",
      "\u001b[33m  DEPRECATION: Configuring installation scheme with distutils config files is deprecated and will no longer work in the near future. If you are using a Homebrew or Linuxbrew Python, please see discussion at https://github.com/Homebrew/homebrew-core/issues/76621\u001b[0m\u001b[33m\n",
      "\u001b[0m  Attempting uninstall: typing-extensions\n",
      "    Found existing installation: typing_extensions 4.7.1\n",
      "    Uninstalling typing_extensions-4.7.1:\n",
      "      Successfully uninstalled typing_extensions-4.7.1\n",
      "\u001b[33m  DEPRECATION: Configuring installation scheme with distutils config files is deprecated and will no longer work in the near future. If you are using a Homebrew or Linuxbrew Python, please see discussion at https://github.com/Homebrew/homebrew-core/issues/76621\u001b[0m\u001b[33m\n",
      "\u001b[0m\u001b[33m  DEPRECATION: Configuring installation scheme with distutils config files is deprecated and will no longer work in the near future. If you are using a Homebrew or Linuxbrew Python, please see discussion at https://github.com/Homebrew/homebrew-core/issues/76621\u001b[0m\u001b[33m\n",
      "\u001b[0m  Attempting uninstall: protobuf\n",
      "    Found existing installation: protobuf 4.25.1\n",
      "    Uninstalling protobuf-4.25.1:\n",
      "      Successfully uninstalled protobuf-4.25.1\n",
      "\u001b[33m  DEPRECATION: Configuring installation scheme with distutils config files is deprecated and will no longer work in the near future. If you are using a Homebrew or Linuxbrew Python, please see discussion at https://github.com/Homebrew/homebrew-core/issues/76621\u001b[0m\u001b[33m\n",
      "\u001b[0m\u001b[33m  DEPRECATION: Configuring installation scheme with distutils config files is deprecated and will no longer work in the near future. If you are using a Homebrew or Linuxbrew Python, please see discussion at https://github.com/Homebrew/homebrew-core/issues/76621\u001b[0m\u001b[33m\n",
      "\u001b[0m  Attempting uninstall: numpy\n",
      "    Found existing installation: numpy 1.25.1\n",
      "    Uninstalling numpy-1.25.1:\n",
      "      Successfully uninstalled numpy-1.25.1\n",
      "\u001b[33m  DEPRECATION: Configuring installation scheme with distutils config files is deprecated and will no longer work in the near future. If you are using a Homebrew or Linuxbrew Python, please see discussion at https://github.com/Homebrew/homebrew-core/issues/76621\u001b[0m\u001b[33m\n",
      "\u001b[0m  Attempting uninstall: joblib\n",
      "    Found existing installation: joblib 1.1.0\n",
      "    Uninstalling joblib-1.1.0:\n",
      "      Successfully uninstalled joblib-1.1.0\n",
      "\u001b[33m  DEPRECATION: Configuring installation scheme with distutils config files is deprecated and will no longer work in the near future. If you are using a Homebrew or Linuxbrew Python, please see discussion at https://github.com/Homebrew/homebrew-core/issues/76621\u001b[0m\u001b[33m\n",
      "\u001b[0m\u001b[33m  DEPRECATION: Configuring installation scheme with distutils config files is deprecated and will no longer work in the near future. If you are using a Homebrew or Linuxbrew Python, please see discussion at https://github.com/Homebrew/homebrew-core/issues/76621\u001b[0m\u001b[33m\n",
      "\u001b[0m\u001b[33m  DEPRECATION: Configuring installation scheme with distutils config files is deprecated and will no longer work in the near future. If you are using a Homebrew or Linuxbrew Python, please see discussion at https://github.com/Homebrew/homebrew-core/issues/76621\u001b[0m\u001b[33m\n",
      "\u001b[0m\u001b[33m  DEPRECATION: Configuring installation scheme with distutils config files is deprecated and will no longer work in the near future. If you are using a Homebrew or Linuxbrew Python, please see discussion at https://github.com/Homebrew/homebrew-core/issues/76621\u001b[0m\u001b[33m\n",
      "\u001b[0m\u001b[33m  DEPRECATION: Configuring installation scheme with distutils config files is deprecated and will no longer work in the near future. If you are using a Homebrew or Linuxbrew Python, please see discussion at https://github.com/Homebrew/homebrew-core/issues/76621\u001b[0m\u001b[33m\n",
      "\u001b[0m  Attempting uninstall: scipy\n",
      "    Found existing installation: scipy 1.8.1\n",
      "    Uninstalling scipy-1.8.1:\n",
      "      Successfully uninstalled scipy-1.8.1\n",
      "\u001b[33m  DEPRECATION: Configuring installation scheme with distutils config files is deprecated and will no longer work in the near future. If you are using a Homebrew or Linuxbrew Python, please see discussion at https://github.com/Homebrew/homebrew-core/issues/76621\u001b[0m\u001b[33m\n",
      "\u001b[0m\u001b[33m  DEPRECATION: Configuring installation scheme with distutils config files is deprecated and will no longer work in the near future. If you are using a Homebrew or Linuxbrew Python, please see discussion at https://github.com/Homebrew/homebrew-core/issues/76621\u001b[0m\u001b[33m\n",
      "\u001b[0m  Attempting uninstall: opencv-python-headless\n",
      "    Found existing installation: opencv-python-headless 4.7.0.72\n",
      "    Uninstalling opencv-python-headless-4.7.0.72:\n",
      "      Successfully uninstalled opencv-python-headless-4.7.0.72\n",
      "\u001b[33m  DEPRECATION: Configuring installation scheme with distutils config files is deprecated and will no longer work in the near future. If you are using a Homebrew or Linuxbrew Python, please see discussion at https://github.com/Homebrew/homebrew-core/issues/76621\u001b[0m\u001b[33m\n",
      "\u001b[0m  Attempting uninstall: flask\n",
      "    Found existing installation: Flask 2.2.5\n",
      "    Uninstalling Flask-2.2.5:\n",
      "      Successfully uninstalled Flask-2.2.5\n",
      "\u001b[33m  DEPRECATION: Configuring installation scheme with distutils config files is deprecated and will no longer work in the near future. If you are using a Homebrew or Linuxbrew Python, please see discussion at https://github.com/Homebrew/homebrew-core/issues/76621\u001b[0m\u001b[33m\n",
      "\u001b[0m\u001b[33m  DEPRECATION: Configuring installation scheme with distutils config files is deprecated and will no longer work in the near future. If you are using a Homebrew or Linuxbrew Python, please see discussion at https://github.com/Homebrew/homebrew-core/issues/76621\u001b[0m\u001b[33m\n",
      "\u001b[0m\u001b[33m  DEPRECATION: Configuring installation scheme with distutils config files is deprecated and will no longer work in the near future. If you are using a Homebrew or Linuxbrew Python, please see discussion at https://github.com/Homebrew/homebrew-core/issues/76621\u001b[0m\u001b[33m\n",
      "\u001b[0m  Attempting uninstall: scikit-learn\n",
      "    Found existing installation: scikit-learn 1.1.1\n",
      "    Uninstalling scikit-learn-1.1.1:\n",
      "      Successfully uninstalled scikit-learn-1.1.1\n",
      "\u001b[33m  DEPRECATION: Configuring installation scheme with distutils config files is deprecated and will no longer work in the near future. If you are using a Homebrew or Linuxbrew Python, please see discussion at https://github.com/Homebrew/homebrew-core/issues/76621\u001b[0m\u001b[33m\n",
      "\u001b[0m\u001b[33m  DEPRECATION: Configuring installation scheme with distutils config files is deprecated and will no longer work in the near future. If you are using a Homebrew or Linuxbrew Python, please see discussion at https://github.com/Homebrew/homebrew-core/issues/76621\u001b[0m\u001b[33m\n",
      "\u001b[0m\u001b[33m  DEPRECATION: Configuring installation scheme with distutils config files is deprecated and will no longer work in the near future. If you are using a Homebrew or Linuxbrew Python, please see discussion at https://github.com/Homebrew/homebrew-core/issues/76621\u001b[0m\u001b[33m\n",
      "\u001b[0m\u001b[33m  DEPRECATION: Configuring installation scheme with distutils config files is deprecated and will no longer work in the near future. If you are using a Homebrew or Linuxbrew Python, please see discussion at https://github.com/Homebrew/homebrew-core/issues/76621\u001b[0m\u001b[33m\n",
      "\u001b[0m\u001b[33m  DEPRECATION: Configuring installation scheme with distutils config files is deprecated and will no longer work in the near future. If you are using a Homebrew or Linuxbrew Python, please see discussion at https://github.com/Homebrew/homebrew-core/issues/76621\u001b[0m\u001b[33m\n",
      "\u001b[0m\u001b[33m  DEPRECATION: Configuring installation scheme with distutils config files is deprecated and will no longer work in the near future. If you are using a Homebrew or Linuxbrew Python, please see discussion at https://github.com/Homebrew/homebrew-core/issues/76621\u001b[0m\u001b[33m\n",
      "\u001b[0m\u001b[33m  DEPRECATION: Configuring installation scheme with distutils config files is deprecated and will no longer work in the near future. If you are using a Homebrew or Linuxbrew Python, please see discussion at https://github.com/Homebrew/homebrew-core/issues/76621\u001b[0m\u001b[33m\n",
      "\u001b[0m\u001b[33m  DEPRECATION: Configuring installation scheme with distutils config files is deprecated and will no longer work in the near future. If you are using a Homebrew or Linuxbrew Python, please see discussion at https://github.com/Homebrew/homebrew-core/issues/76621\u001b[0m\u001b[33m\n",
      "\u001b[0m\u001b[33m  DEPRECATION: Configuring installation scheme with distutils config files is deprecated and will no longer work in the near future. If you are using a Homebrew or Linuxbrew Python, please see discussion at https://github.com/Homebrew/homebrew-core/issues/76621\u001b[0m\u001b[33m\n",
      "\u001b[0m\u001b[33m  DEPRECATION: Configuring installation scheme with distutils config files is deprecated and will no longer work in the near future. If you are using a Homebrew or Linuxbrew Python, please see discussion at https://github.com/Homebrew/homebrew-core/issues/76621\u001b[0m\u001b[33m\n",
      "\u001b[0m\u001b[33m  DEPRECATION: Configuring installation scheme with distutils config files is deprecated and will no longer work in the near future. If you are using a Homebrew or Linuxbrew Python, please see discussion at https://github.com/Homebrew/homebrew-core/issues/76621\u001b[0m\u001b[33m\n",
      "\u001b[0m\u001b[33mDEPRECATION: Configuring installation scheme with distutils config files is deprecated and will no longer work in the near future. If you are using a Homebrew or Linuxbrew Python, please see discussion at https://github.com/Homebrew/homebrew-core/issues/76621\u001b[0m\u001b[33m\n",
      "\u001b[0m\u001b[31mERROR: pip's dependency resolver does not currently take into account all the packages that are installed. This behaviour is the source of the following dependency conflicts.\n",
      "rembg 2.0.38 requires asyncer>=0.0.2, which is not installed.\n",
      "rembg 2.0.38 requires imagehash>=4.3.1, which is not installed.\n",
      "rembg 2.0.38 requires watchdog>=2.1.9, which is not installed.\n",
      "tensorflow-macos 2.13.0 requires numpy<=1.24.3,>=1.22, but you have numpy 1.24.4 which is incompatible.\n",
      "tensorflow-macos 2.13.0 requires typing-extensions<4.6.0,>=3.6.6, but you have typing-extensions 4.10.0 which is incompatible.\n",
      "mitmproxy 9.0.1 requires flask<2.3,>=1.1.1, but you have flask 3.0.2 which is incompatible.\n",
      "mitmproxy 9.0.1 requires typing-extensions<4.5,>=4.3; python_version < \"3.10\", but you have typing-extensions 4.10.0 which is incompatible.\n",
      "grpcio-status 1.60.0 requires protobuf>=4.21.6, but you have protobuf 3.20.3 which is incompatible.\n",
      "blendmodes 2022 requires Pillow<10,>=9.0.0, but you have pillow 10.0.0 which is incompatible.\u001b[0m\u001b[31m\n",
      "\u001b[0mSuccessfully installed Werkzeug-3.0.1 albumentations-1.4.2 all-clip-1.2.0 aniso8601-9.0.1 autofaiss-2.17.0 blinker-1.7.0 braceexpand-0.1.7 clip-anytorch-2.6.0 clip-retrieval-2.44.0 dataclasses-0.6 docker-pycreds-0.4.0 embedding-reader-1.7.0 exifread-nocycle-3.0.1 faiss-cpu-1.8.0 flask-3.0.2 flask-cors-4.0.0 flask-restful-0.3.10 img2dataset-1.45.0 joblib-1.3.2 multilingual-clip-1.0.10 numpy-1.24.4 opencv-python-headless-4.9.0.80 prometheus-client-0.20.0 protobuf-3.20.3 pyarrow-14.0.2 scikit-learn-1.4.1.post1 scipy-1.11.4 sentry-sdk-1.44.0 setproctitle-1.3.3 typing-extensions-4.10.0 urllib3-1.26.18 wandb-0.16.5 webdataset-0.2.86\n",
      "\n",
      "\u001b[1m[\u001b[0m\u001b[34;49mnotice\u001b[0m\u001b[1;39;49m]\u001b[0m\u001b[39;49m A new release of pip available: \u001b[0m\u001b[31;49m22.3.1\u001b[0m\u001b[39;49m -> \u001b[0m\u001b[32;49m24.0\u001b[0m\n",
      "\u001b[1m[\u001b[0m\u001b[34;49mnotice\u001b[0m\u001b[1;39;49m]\u001b[0m\u001b[39;49m To update, run: \u001b[0m\u001b[32;49mpython3.9 -m pip install --upgrade pip\u001b[0m\n"
     ]
    }
   ],
   "source": [
    "!pip install clip-retrieval"
   ]
  },
  {
   "cell_type": "code",
   "execution_count": 8,
   "id": "580cc9e6-1a2b-4432-98ac-c1e20664bfe1",
   "metadata": {},
   "outputs": [
    {
     "name": "stdout",
     "output_type": "stream",
     "text": [
      "Writing indices.json\n"
     ]
    }
   ],
   "source": [
    "%%writefile indices.json\n",
    "{\n",
    "    \"fondant_datacomp_small\": {\n",
    "        \"indice_folder\": \"datacomp_small\",\n",
    "        \"columns_to_return\": [\"url\"],\n",
    "        \"clip_model\": \"open_clip:ViT-B-32/laion2b_s34b_b79k\",\n",
    "        \"enable_mclip_option\": false,\n",
    "        \"provide_aesthetic_embeddings\": false\n",
    "    }\n",
    "}"
   ]
  },
  {
   "cell_type": "code",
   "execution_count": 11,
   "id": "9fbf3533-3864-4abb-86a0-d5816e4deb14",
   "metadata": {},
   "outputs": [
    {
     "name": "stdout",
     "output_type": "stream",
     "text": [
      "starting boot of clip back\n",
      "warming up with batch size 1 on cpu\n",
      "done warming up in 2.1474368572235107s\n",
      "indices loaded\n",
      " * Serving Flask app 'clip_retrieval.clip_back'\n",
      " * Debug mode: off\n",
      "INFO:werkzeug:\u001b[31m\u001b[1mWARNING: This is a development server. Do not use it in a production deployment. Use a production WSGI server instead.\u001b[0m\n",
      " * Running on all addresses (0.0.0.0)\n",
      " * Running on http://127.0.0.1:1234\n",
      " * Running on http://10.137.96.167:1234\n",
      "INFO:werkzeug:\u001b[33mPress CTRL+C to quit\u001b[0m\n",
      "INFO:werkzeug:127.0.0.1 - - [29/Mar/2024 12:37:06] \"POST /knn-service HTTP/1.1\" 200 -\n",
      "INFO:werkzeug:127.0.0.1 - - [29/Mar/2024 12:37:06] \"POST /metadata HTTP/1.1\" 200 -\n",
      "INFO:werkzeug:127.0.0.1 - - [29/Mar/2024 12:37:11] \"GET /?back=http://localhost:1234/&index=fondant_datacomp_small&useMclip=false&query=rick+and+morty HTTP/1.1\" 200 -\n",
      "INFO:werkzeug:127.0.0.1 - - [29/Mar/2024 12:37:11] \"\u001b[33mGET /vendor/webcomponents-loader.js HTTP/1.1\u001b[0m\" 404 -\n",
      "INFO:werkzeug:127.0.0.1 - - [29/Mar/2024 12:37:11] \"\u001b[36mGET /vendor/custom-elements-es5-adapter.js HTTP/1.1\u001b[0m\" 304 -\n",
      "INFO:werkzeug:127.0.0.1 - - [29/Mar/2024 12:37:11] \"\u001b[36mGET /main.b3021b6a.js HTTP/1.1\u001b[0m\" 304 -\n",
      "INFO:werkzeug:127.0.0.1 - - [29/Mar/2024 12:37:11] \"GET /config.json HTTP/1.1\" 200 -\n",
      "INFO:werkzeug:127.0.0.1 - - [29/Mar/2024 12:37:12] \"GET /indices-list HTTP/1.1\" 200 -\n",
      "INFO:werkzeug:127.0.0.1 - - [29/Mar/2024 12:37:12] \"\u001b[36mGET /assets/search.png HTTP/1.1\u001b[0m\" 304 -\n",
      "INFO:werkzeug:127.0.0.1 - - [29/Mar/2024 12:37:12] \"\u001b[36mGET /assets/image-search.png HTTP/1.1\u001b[0m\" 304 -\n",
      "INFO:werkzeug:127.0.0.1 - - [29/Mar/2024 12:37:12] \"\u001b[36mGET /assets/download.png HTTP/1.1\u001b[0m\" 304 -\n",
      "INFO:werkzeug:127.0.0.1 - - [29/Mar/2024 12:37:12] \"GET /indices-list HTTP/1.1\" 200 -\n",
      "INFO:werkzeug:127.0.0.1 - - [29/Mar/2024 12:37:12] \"POST /knn-service HTTP/1.1\" 200 -\n",
      "INFO:werkzeug:127.0.0.1 - - [29/Mar/2024 12:37:12] \"POST /metadata HTTP/1.1\" 200 -\n",
      "INFO:werkzeug:127.0.0.1 - - [29/Mar/2024 12:37:16] \"\u001b[36mGET / HTTP/1.1\u001b[0m\" 304 -\n",
      "INFO:werkzeug:127.0.0.1 - - [29/Mar/2024 12:37:16] \"\u001b[33mGET /vendor/webcomponents-loader.js HTTP/1.1\u001b[0m\" 404 -\n",
      "INFO:werkzeug:127.0.0.1 - - [29/Mar/2024 12:37:16] \"\u001b[36mGET /vendor/custom-elements-es5-adapter.js HTTP/1.1\u001b[0m\" 304 -\n",
      "INFO:werkzeug:127.0.0.1 - - [29/Mar/2024 12:37:16] \"\u001b[36mGET /main.b3021b6a.js HTTP/1.1\u001b[0m\" 304 -\n",
      "INFO:werkzeug:127.0.0.1 - - [29/Mar/2024 12:37:16] \"GET /config.json HTTP/1.1\" 200 -\n",
      "INFO:werkzeug:127.0.0.1 - - [29/Mar/2024 12:37:16] \"GET /indices-list HTTP/1.1\" 200 -\n",
      "INFO:werkzeug:127.0.0.1 - - [29/Mar/2024 12:37:16] \"GET /indices-list HTTP/1.1\" 200 -\n",
      "INFO:werkzeug:127.0.0.1 - - [29/Mar/2024 12:37:16] \"\u001b[36mGET /assets/search.png HTTP/1.1\u001b[0m\" 304 -\n",
      "INFO:werkzeug:127.0.0.1 - - [29/Mar/2024 12:37:16] \"\u001b[36mGET /assets/image-search.png HTTP/1.1\u001b[0m\" 304 -\n",
      "INFO:werkzeug:127.0.0.1 - - [29/Mar/2024 12:37:16] \"\u001b[36mGET /assets/download.png HTTP/1.1\u001b[0m\" 304 -\n",
      "INFO:werkzeug:127.0.0.1 - - [29/Mar/2024 12:37:24] \"POST /knn-service HTTP/1.1\" 200 -\n",
      "INFO:werkzeug:127.0.0.1 - - [29/Mar/2024 12:37:24] \"POST /metadata HTTP/1.1\" 200 -\n",
      "INFO:werkzeug:127.0.0.1 - - [29/Mar/2024 12:37:36] \"POST /knn-service HTTP/1.1\" 200 -\n",
      "INFO:werkzeug:127.0.0.1 - - [29/Mar/2024 12:37:36] \"POST /metadata HTTP/1.1\" 200 -\n",
      "INFO:werkzeug:127.0.0.1 - - [29/Mar/2024 12:37:36] \"POST /metadata HTTP/1.1\" 200 -\n",
      "INFO:werkzeug:127.0.0.1 - - [29/Mar/2024 12:37:39] \"POST /knn-service HTTP/1.1\" 200 -\n",
      "INFO:werkzeug:127.0.0.1 - - [29/Mar/2024 12:37:40] \"POST /metadata HTTP/1.1\" 200 -\n",
      "INFO:werkzeug:127.0.0.1 - - [29/Mar/2024 12:38:00] \"POST /knn-service HTTP/1.1\" 200 -\n",
      "INFO:werkzeug:127.0.0.1 - - [29/Mar/2024 12:38:08] \"POST /knn-service HTTP/1.1\" 200 -\n",
      "INFO:werkzeug:127.0.0.1 - - [29/Mar/2024 12:38:15] \"POST /knn-service HTTP/1.1\" 200 -\n",
      "INFO:werkzeug:127.0.0.1 - - [29/Mar/2024 12:38:15] \"POST /metadata HTTP/1.1\" 200 -\n",
      "INFO:werkzeug:127.0.0.1 - - [29/Mar/2024 12:38:19] \"POST /knn-service HTTP/1.1\" 200 -\n",
      "INFO:werkzeug:127.0.0.1 - - [29/Mar/2024 12:38:20] \"POST /knn-service HTTP/1.1\" 200 -\n",
      "INFO:werkzeug:127.0.0.1 - - [29/Mar/2024 12:38:20] \"POST /metadata HTTP/1.1\" 200 -\n",
      "INFO:werkzeug:127.0.0.1 - - [29/Mar/2024 12:38:24] \"POST /knn-service HTTP/1.1\" 200 -\n",
      "INFO:werkzeug:127.0.0.1 - - [29/Mar/2024 12:38:31] \"POST /knn-service HTTP/1.1\" 200 -\n",
      "INFO:werkzeug:127.0.0.1 - - [29/Mar/2024 12:38:31] \"POST /metadata HTTP/1.1\" 200 -\n",
      "INFO:werkzeug:127.0.0.1 - - [29/Mar/2024 12:38:42] \"POST /knn-service HTTP/1.1\" 200 -\n",
      "INFO:werkzeug:127.0.0.1 - - [29/Mar/2024 12:38:42] \"POST /metadata HTTP/1.1\" 200 -\n",
      "INFO:werkzeug:127.0.0.1 - - [29/Mar/2024 12:38:52] \"POST /knn-service HTTP/1.1\" 200 -\n",
      "INFO:werkzeug:127.0.0.1 - - [29/Mar/2024 12:39:03] \"POST /knn-service HTTP/1.1\" 200 -\n",
      "INFO:werkzeug:127.0.0.1 - - [29/Mar/2024 12:39:10] \"POST /knn-service HTTP/1.1\" 200 -\n",
      "INFO:werkzeug:127.0.0.1 - - [29/Mar/2024 12:39:17] \"POST /knn-service HTTP/1.1\" 200 -\n",
      "INFO:werkzeug:127.0.0.1 - - [29/Mar/2024 12:39:17] \"POST /metadata HTTP/1.1\" 200 -\n",
      "INFO:werkzeug:127.0.0.1 - - [29/Mar/2024 12:39:24] \"POST /knn-service HTTP/1.1\" 200 -\n",
      "INFO:werkzeug:127.0.0.1 - - [29/Mar/2024 12:39:24] \"POST /metadata HTTP/1.1\" 200 -\n",
      "INFO:werkzeug:127.0.0.1 - - [29/Mar/2024 12:39:26] \"POST /knn-service HTTP/1.1\" 200 -\n",
      "INFO:werkzeug:127.0.0.1 - - [29/Mar/2024 12:39:35] \"POST /knn-service HTTP/1.1\" 200 -\n",
      "INFO:werkzeug:127.0.0.1 - - [29/Mar/2024 12:39:36] \"POST /metadata HTTP/1.1\" 200 -\n",
      "INFO:werkzeug:127.0.0.1 - - [29/Mar/2024 12:39:45] \"POST /knn-service HTTP/1.1\" 200 -\n",
      "INFO:werkzeug:127.0.0.1 - - [29/Mar/2024 12:39:49] \"POST /knn-service HTTP/1.1\" 200 -\n",
      "INFO:werkzeug:127.0.0.1 - - [29/Mar/2024 12:40:14] \"POST /knn-service HTTP/1.1\" 200 -\n",
      "INFO:werkzeug:127.0.0.1 - - [29/Mar/2024 12:40:30] \"POST /knn-service HTTP/1.1\" 200 -\n",
      "INFO:werkzeug:127.0.0.1 - - [29/Mar/2024 12:40:43] \"POST /knn-service HTTP/1.1\" 200 -\n",
      "INFO:werkzeug:127.0.0.1 - - [29/Mar/2024 12:40:43] \"POST /metadata HTTP/1.1\" 200 -\n",
      "INFO:werkzeug:127.0.0.1 - - [29/Mar/2024 12:40:51] \"POST /knn-service HTTP/1.1\" 200 -\n",
      "INFO:werkzeug:127.0.0.1 - - [29/Mar/2024 12:41:07] \"POST /knn-service HTTP/1.1\" 200 -\n",
      "INFO:werkzeug:127.0.0.1 - - [29/Mar/2024 12:41:08] \"POST /metadata HTTP/1.1\" 200 -\n",
      "INFO:werkzeug:127.0.0.1 - - [29/Mar/2024 12:41:10] \"POST /knn-service HTTP/1.1\" 200 -\n",
      "INFO:werkzeug:127.0.0.1 - - [29/Mar/2024 12:41:11] \"POST /metadata HTTP/1.1\" 200 -\n",
      "INFO:werkzeug:127.0.0.1 - - [29/Mar/2024 12:41:13] \"POST /knn-service HTTP/1.1\" 200 -\n",
      "INFO:werkzeug:127.0.0.1 - - [29/Mar/2024 12:46:39] \"POST /knn-service HTTP/1.1\" 200 -\n",
      "INFO:werkzeug:127.0.0.1 - - [29/Mar/2024 12:47:08] \"POST /knn-service HTTP/1.1\" 200 -\n",
      "INFO:werkzeug:127.0.0.1 - - [29/Mar/2024 12:48:53] \"POST /knn-service HTTP/1.1\" 200 -\n",
      "INFO:werkzeug:127.0.0.1 - - [29/Mar/2024 12:50:04] \"POST /knn-service HTTP/1.1\" 200 -\n",
      "INFO:werkzeug:127.0.0.1 - - [29/Mar/2024 12:50:32] \"POST /knn-service HTTP/1.1\" 200 -\n",
      "INFO:werkzeug:127.0.0.1 - - [29/Mar/2024 12:51:12] \"POST /knn-service HTTP/1.1\" 200 -\n",
      "INFO:werkzeug:127.0.0.1 - - [29/Mar/2024 12:51:50] \"POST /knn-service HTTP/1.1\" 200 -\n",
      "INFO:werkzeug:127.0.0.1 - - [29/Mar/2024 12:53:19] \"POST /knn-service HTTP/1.1\" 200 -\n",
      "INFO:werkzeug:127.0.0.1 - - [29/Mar/2024 12:54:55] \"\u001b[36mGET /main.b3021b6a.js.map HTTP/1.1\u001b[0m\" 304 -\n",
      "INFO:werkzeug:127.0.0.1 - - [29/Mar/2024 12:54:57] \"POST /knn-service HTTP/1.1\" 200 -\n",
      "INFO:werkzeug:127.0.0.1 - - [29/Mar/2024 12:56:15] \"POST /knn-service HTTP/1.1\" 200 -\n",
      "INFO:werkzeug:127.0.0.1 - - [29/Mar/2024 12:57:52] \"POST /metadata HTTP/1.1\" 200 -\n",
      "INFO:werkzeug:127.0.0.1 - - [29/Mar/2024 12:57:52] \"POST /metadata HTTP/1.1\" 200 -\n"
     ]
    }
   ],
   "source": [
    "!clip-retrieval back --port 1234 --indices-paths indices.json --clip_model open_clip:ViT-B-32/laion2b_s34b_b79k"
   ]
  }
 ],
 "metadata": {
  "kernelspec": {
   "display_name": "Python 3 (ipykernel)",
   "language": "python",
   "name": "python3"
  },
  "language_info": {
   "codemirror_mode": {
    "name": "ipython",
    "version": 3
   },
   "file_extension": ".py",
   "mimetype": "text/x-python",
   "name": "python",
   "nbconvert_exporter": "python",
   "pygments_lexer": "ipython3",
   "version": "3.10.13"
  }
 },
 "nbformat": 4,
 "nbformat_minor": 5
}
